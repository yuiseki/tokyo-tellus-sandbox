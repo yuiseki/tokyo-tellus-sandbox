{
 "cells": [
  {
   "cell_type": "code",
   "execution_count": 4,
   "metadata": {},
   "outputs": [
    {
     "name": "stdout",
     "output_type": "stream",
     "text": [
      "b'out of telluside. we only provide sevice under telluside.\\n'\n"
     ]
    },
    {
     "ename": "ValueError",
     "evalue": "Could not find a backend to open `<_io.BytesIO object at 0x7f0abd4948b0>`` with iomode `ri`.",
     "output_type": "error",
     "traceback": [
      "\u001b[0;31m---------------------------------------------------------------------------\u001b[0m",
      "\u001b[0;31mValueError\u001b[0m                                Traceback (most recent call last)",
      "\u001b[1;32mセル1 を /workspaces/tokyo-tellus-sandbox/yuiseki/tellus.ipynb\u001b[0m in \u001b[0;36m<cell line: 26>\u001b[0;34m()\u001b[0m\n\u001b[1;32m     <a href='vscode-notebook-cell://dev-container%2B5c5c77736c245c5562756e74755c686f6d655c79756973656b695c7372635c6769746875622e636f6d5c79756973656b695c746f6b796f2d74656c6c75732d73616e64626f78/workspaces/tokyo-tellus-sandbox/yuiseki/tellus.ipynb#W0sdnNjb2RlLXJlbW90ZQ%3D%3D?line=22'>23</a>\u001b[0m     \u001b[39mprint\u001b[39m(r\u001b[39m.\u001b[39mcontent)\n\u001b[1;32m     <a href='vscode-notebook-cell://dev-container%2B5c5c77736c245c5562756e74755c686f6d655c79756973656b695c7372635c6769746875622e636f6d5c79756973656b695c746f6b796f2d74656c6c75732d73616e64626f78/workspaces/tokyo-tellus-sandbox/yuiseki/tellus.ipynb#W0sdnNjb2RlLXJlbW90ZQ%3D%3D?line=23'>24</a>\u001b[0m     \u001b[39mreturn\u001b[39;00m io\u001b[39m.\u001b[39mimread(BytesIO(r\u001b[39m.\u001b[39mcontent))\n\u001b[0;32m---> <a href='vscode-notebook-cell://dev-container%2B5c5c77736c245c5562756e74755c686f6d655c79756973656b695c7372635c6769746875622e636f6d5c79756973656b695c746f6b796f2d74656c6c75732d73616e64626f78/workspaces/tokyo-tellus-sandbox/yuiseki/tellus.ipynb#W0sdnNjb2RlLXJlbW90ZQ%3D%3D?line=25'>26</a>\u001b[0m true_img1 \u001b[39m=\u001b[39m get_AVNIR_image(zoom\u001b[39m=\u001b[39;49m\u001b[39m13\u001b[39;49m,xtile\u001b[39m=\u001b[39;49m\u001b[39m7276\u001b[39;49m,ytile\u001b[39m=\u001b[39;49m\u001b[39m3226\u001b[39;49m)\n\u001b[1;32m     <a href='vscode-notebook-cell://dev-container%2B5c5c77736c245c5562756e74755c686f6d655c79756973656b695c7372635c6769746875622e636f6d5c79756973656b695c746f6b796f2d74656c6c75732d73616e64626f78/workspaces/tokyo-tellus-sandbox/yuiseki/tellus.ipynb#W0sdnNjb2RlLXJlbW90ZQ%3D%3D?line=26'>27</a>\u001b[0m ndvi_img1 \u001b[39m=\u001b[39m get_AVNIR_image(zoom\u001b[39m=\u001b[39m\u001b[39m13\u001b[39m,xtile\u001b[39m=\u001b[39m\u001b[39m7276\u001b[39m,ytile\u001b[39m=\u001b[39m\u001b[39m3226\u001b[39m,preset\u001b[39m=\u001b[39m\u001b[39m'\u001b[39m\u001b[39mndvi\u001b[39m\u001b[39m'\u001b[39m)\n\u001b[1;32m     <a href='vscode-notebook-cell://dev-container%2B5c5c77736c245c5562756e74755c686f6d655c79756973656b695c7372635c6769746875622e636f6d5c79756973656b695c746f6b796f2d74656c6c75732d73616e64626f78/workspaces/tokyo-tellus-sandbox/yuiseki/tellus.ipynb#W0sdnNjb2RlLXJlbW90ZQ%3D%3D?line=27'>28</a>\u001b[0m io\u001b[39m.\u001b[39mimshow(np\u001b[39m.\u001b[39mhstack((true_img1, ndvi_img1)))\n",
      "\u001b[1;32mセル1 を /workspaces/tokyo-tellus-sandbox/yuiseki/tellus.ipynb\u001b[0m in \u001b[0;36mget_AVNIR_image\u001b[0;34m(zoom, xtile, ytile, opacity, r, g, b, rdepth, gdepth, bdepth, preset)\u001b[0m\n\u001b[1;32m     <a href='vscode-notebook-cell://dev-container%2B5c5c77736c245c5562756e74755c686f6d655c79756973656b695c7372635c6769746875622e636f6d5c79756973656b695c746f6b796f2d74656c6c75732d73616e64626f78/workspaces/tokyo-tellus-sandbox/yuiseki/tellus.ipynb#W0sdnNjb2RlLXJlbW90ZQ%3D%3D?line=21'>22</a>\u001b[0m r \u001b[39m=\u001b[39m requests\u001b[39m.\u001b[39mget(url, headers\u001b[39m=\u001b[39mheaders)\n\u001b[1;32m     <a href='vscode-notebook-cell://dev-container%2B5c5c77736c245c5562756e74755c686f6d655c79756973656b695c7372635c6769746875622e636f6d5c79756973656b695c746f6b796f2d74656c6c75732d73616e64626f78/workspaces/tokyo-tellus-sandbox/yuiseki/tellus.ipynb#W0sdnNjb2RlLXJlbW90ZQ%3D%3D?line=22'>23</a>\u001b[0m \u001b[39mprint\u001b[39m(r\u001b[39m.\u001b[39mcontent)\n\u001b[0;32m---> <a href='vscode-notebook-cell://dev-container%2B5c5c77736c245c5562756e74755c686f6d655c79756973656b695c7372635c6769746875622e636f6d5c79756973656b695c746f6b796f2d74656c6c75732d73616e64626f78/workspaces/tokyo-tellus-sandbox/yuiseki/tellus.ipynb#W0sdnNjb2RlLXJlbW90ZQ%3D%3D?line=23'>24</a>\u001b[0m \u001b[39mreturn\u001b[39;00m io\u001b[39m.\u001b[39;49mimread(BytesIO(r\u001b[39m.\u001b[39;49mcontent))\n",
      "File \u001b[0;32m/usr/local/lib/python3.10/site-packages/skimage/io/_io.py:53\u001b[0m, in \u001b[0;36mimread\u001b[0;34m(fname, as_gray, plugin, **plugin_args)\u001b[0m\n\u001b[1;32m     50\u001b[0m         plugin \u001b[39m=\u001b[39m \u001b[39m'\u001b[39m\u001b[39mtifffile\u001b[39m\u001b[39m'\u001b[39m\n\u001b[1;32m     52\u001b[0m \u001b[39mwith\u001b[39;00m file_or_url_context(fname) \u001b[39mas\u001b[39;00m fname:\n\u001b[0;32m---> 53\u001b[0m     img \u001b[39m=\u001b[39m call_plugin(\u001b[39m'\u001b[39;49m\u001b[39mimread\u001b[39;49m\u001b[39m'\u001b[39;49m, fname, plugin\u001b[39m=\u001b[39;49mplugin, \u001b[39m*\u001b[39;49m\u001b[39m*\u001b[39;49mplugin_args)\n\u001b[1;32m     55\u001b[0m \u001b[39mif\u001b[39;00m \u001b[39mnot\u001b[39;00m \u001b[39mhasattr\u001b[39m(img, \u001b[39m'\u001b[39m\u001b[39mndim\u001b[39m\u001b[39m'\u001b[39m):\n\u001b[1;32m     56\u001b[0m     \u001b[39mreturn\u001b[39;00m img\n",
      "File \u001b[0;32m/usr/local/lib/python3.10/site-packages/skimage/io/manage_plugins.py:207\u001b[0m, in \u001b[0;36mcall_plugin\u001b[0;34m(kind, *args, **kwargs)\u001b[0m\n\u001b[1;32m    203\u001b[0m     \u001b[39mexcept\u001b[39;00m \u001b[39mIndexError\u001b[39;00m:\n\u001b[1;32m    204\u001b[0m         \u001b[39mraise\u001b[39;00m \u001b[39mRuntimeError\u001b[39;00m(\u001b[39m'\u001b[39m\u001b[39mCould not find the plugin \u001b[39m\u001b[39m\"\u001b[39m\u001b[39m%s\u001b[39;00m\u001b[39m\"\u001b[39m\u001b[39m for \u001b[39m\u001b[39m%s\u001b[39;00m\u001b[39m.\u001b[39m\u001b[39m'\u001b[39m \u001b[39m%\u001b[39m\n\u001b[1;32m    205\u001b[0m                            (plugin, kind))\n\u001b[0;32m--> 207\u001b[0m \u001b[39mreturn\u001b[39;00m func(\u001b[39m*\u001b[39;49margs, \u001b[39m*\u001b[39;49m\u001b[39m*\u001b[39;49mkwargs)\n",
      "File \u001b[0;32m/usr/local/lib/python3.10/site-packages/skimage/io/_plugins/imageio_plugin.py:15\u001b[0m, in \u001b[0;36mimread\u001b[0;34m(*args, **kwargs)\u001b[0m\n\u001b[1;32m     13\u001b[0m \u001b[39m@wraps\u001b[39m(imageio_imread)\n\u001b[1;32m     14\u001b[0m \u001b[39mdef\u001b[39;00m \u001b[39mimread\u001b[39m(\u001b[39m*\u001b[39margs, \u001b[39m*\u001b[39m\u001b[39m*\u001b[39mkwargs):\n\u001b[0;32m---> 15\u001b[0m     \u001b[39mreturn\u001b[39;00m np\u001b[39m.\u001b[39masarray(imageio_imread(\u001b[39m*\u001b[39;49margs, \u001b[39m*\u001b[39;49m\u001b[39m*\u001b[39;49mkwargs))\n",
      "File \u001b[0;32m/usr/local/lib/python3.10/site-packages/imageio/v2.py:200\u001b[0m, in \u001b[0;36mimread\u001b[0;34m(uri, format, **kwargs)\u001b[0m\n\u001b[1;32m    197\u001b[0m imopen_args \u001b[39m=\u001b[39m decypher_format_arg(\u001b[39mformat\u001b[39m)\n\u001b[1;32m    198\u001b[0m imopen_args[\u001b[39m\"\u001b[39m\u001b[39mlegacy_mode\u001b[39m\u001b[39m\"\u001b[39m] \u001b[39m=\u001b[39m \u001b[39mTrue\u001b[39;00m\n\u001b[0;32m--> 200\u001b[0m \u001b[39mwith\u001b[39;00m imopen(uri, \u001b[39m\"\u001b[39;49m\u001b[39mri\u001b[39;49m\u001b[39m\"\u001b[39;49m, \u001b[39m*\u001b[39;49m\u001b[39m*\u001b[39;49mimopen_args) \u001b[39mas\u001b[39;00m file:\n\u001b[1;32m    201\u001b[0m     \u001b[39mreturn\u001b[39;00m file\u001b[39m.\u001b[39mread(index\u001b[39m=\u001b[39m\u001b[39m0\u001b[39m, \u001b[39m*\u001b[39m\u001b[39m*\u001b[39mkwargs)\n",
      "File \u001b[0;32m/usr/local/lib/python3.10/site-packages/imageio/core/imopen.py:303\u001b[0m, in \u001b[0;36mimopen\u001b[0;34m(uri, io_mode, plugin, extension, format_hint, legacy_mode, **kwargs)\u001b[0m\n\u001b[1;32m    297\u001b[0m         err_msg \u001b[39m+\u001b[39m\u001b[39m=\u001b[39m (\n\u001b[1;32m    298\u001b[0m             \u001b[39m\"\u001b[39m\u001b[39m\\n\u001b[39;00m\u001b[39mBased on the extension, the following plugins might add capable backends:\u001b[39m\u001b[39m\\n\u001b[39;00m\u001b[39m\"\u001b[39m\n\u001b[1;32m    299\u001b[0m             \u001b[39mf\u001b[39m\u001b[39m\"\u001b[39m\u001b[39m{\u001b[39;00minstall_candidates\u001b[39m}\u001b[39;00m\u001b[39m\"\u001b[39m\n\u001b[1;32m    300\u001b[0m         )\n\u001b[1;32m    302\u001b[0m request\u001b[39m.\u001b[39mfinish()\n\u001b[0;32m--> 303\u001b[0m \u001b[39mraise\u001b[39;00m err_type(err_msg)\n",
      "\u001b[0;31mValueError\u001b[0m: Could not find a backend to open `<_io.BytesIO object at 0x7f0abd4948b0>`` with iomode `ri`."
     ]
    }
   ],
   "source": [
    "import dotenv\n",
    "import os, json, requests, math\n",
    "import numpy as np\n",
    "import cv2\n",
    "from skimage import io\n",
    "from io import BytesIO\n",
    "import matplotlib.pyplot as plt\n",
    "%matplotlib inline\n",
    "\n",
    "dotenv.load_dotenv(\".env\", override=True)\n",
    "\n",
    "TOKEN = os.environ.get('TELLUS_API_KEY')\n",
    "\n",
    "def get_AVNIR_image(zoom, xtile, ytile, opacity=1, r=3, g=2, b=1, rdepth=1, gdepth=1, bdepth=1, preset=None):\n",
    "    url = \"https://gisapi.tellusxdp.com/blend/{}/{}/{}.png?opacity={}&r={}&g={}&b={}&rdepth={}&gdepth={}&bdepth={}\".format(zoom, xtile, ytile, opacity, r, g, b, rdepth, gdepth, bdepth) \n",
    "    if preset is not None:\n",
    "        url += '&preset='+preset\n",
    "    headers = {\n",
    "        \"content-type\": \"application/json\",\n",
    "        \"Authorization\": \"Bearer \" + TOKEN\n",
    "    }\n",
    "    r = requests.get(url, headers=headers)\n",
    "    print(r.content)\n",
    "    return io.imread(BytesIO(r.content))\n",
    "\n",
    "true_img1 = get_AVNIR_image(zoom=13,xtile=7276,ytile=3226)\n",
    "ndvi_img1 = get_AVNIR_image(zoom=13,xtile=7276,ytile=3226,preset='ndvi')\n",
    "io.imshow(np.hstack((true_img1, ndvi_img1)))"
   ]
  }
 ],
 "metadata": {
  "kernelspec": {
   "display_name": "Python 3.10.5 64-bit",
   "language": "python",
   "name": "python3"
  },
  "language_info": {
   "codemirror_mode": {
    "name": "ipython",
    "version": 3
   },
   "file_extension": ".py",
   "mimetype": "text/x-python",
   "name": "python",
   "nbconvert_exporter": "python",
   "pygments_lexer": "ipython3",
   "version": "3.10.5"
  },
  "orig_nbformat": 4,
  "vscode": {
   "interpreter": {
    "hash": "949777d72b0d2535278d3dc13498b2535136f6dfe0678499012e853ee9abcab1"
   }
  }
 },
 "nbformat": 4,
 "nbformat_minor": 2
}
